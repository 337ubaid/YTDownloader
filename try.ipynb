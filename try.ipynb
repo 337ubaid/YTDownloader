{
 "cells": [
  {
   "cell_type": "code",
   "execution_count": 36,
   "metadata": {},
   "outputs": [],
   "source": [
    "from pytube import YouTube\n",
    "from sys import argv"
   ]
  },
  {
   "cell_type": "code",
   "execution_count": 37,
   "metadata": {},
   "outputs": [
    {
     "data": {
      "text/plain": [
       "<pytube.__main__.YouTube object: videoId=KuXjwB4LzSA>"
      ]
     },
     "execution_count": 37,
     "metadata": {},
     "output_type": "execute_result"
    }
   ],
   "source": [
    "# link = argv[1] # Get the link from the 1st command line\n",
    "link = \"https://www.youtube.com/watch?v=KuXjwB4LzSA&ab_channel=3Blue1Brown\"\n",
    "yt = YouTube(link)\n",
    "yt"
   ]
  },
  {
   "cell_type": "code",
   "execution_count": 38,
   "metadata": {},
   "outputs": [
    {
     "data": {
      "text/plain": [
       "['360p', '720p']"
      ]
     },
     "execution_count": 38,
     "metadata": {},
     "output_type": "execute_result"
    }
   ],
   "source": [
    "# GETTING ALL VIDEOS RESOLUTIONS\n",
    "get_resolutions = yt.streams.order_by('resolution').filter(progressive=True, file_extension='mp4')\n",
    "resolutions = [stream.resolution for stream in get_resolutions]\n",
    "resolutions = list(set(resolutions))\n",
    "resolutions = [resolution[:-1] for resolution in resolutions]\n",
    "resolutions = sorted(resolutions, key=lambda x: int(x))\n",
    "resolutions = [resolution + \"p\" for resolution in resolutions]\n",
    "resolutions"
   ]
  },
  {
   "cell_type": "code",
   "execution_count": 39,
   "metadata": {},
   "outputs": [
    {
     "name": "stdout",
     "output_type": "stream",
     "text": [
      "Resolution to download: 720p\n"
     ]
    },
    {
     "data": {
      "text/plain": [
       "'720p'"
      ]
     },
     "execution_count": 39,
     "metadata": {},
     "output_type": "execute_result"
    }
   ],
   "source": [
    "resolution_to_download = resolutions[-1]\n",
    "path_to_save = \"D:/Downloads/Videos\"\n",
    "print(f\"Resolution to download: {resolution_to_download}\")\n",
    "resolution_to_download"
   ]
  },
  {
   "cell_type": "code",
   "execution_count": 42,
   "metadata": {},
   "outputs": [
    {
     "data": {
      "text/plain": [
       "'D:/Downloads/Videos\\\\But what is a convolution.mp4'"
      ]
     },
     "execution_count": 42,
     "metadata": {},
     "output_type": "execute_result"
    }
   ],
   "source": [
    "stream_to_download = yt.streams.get_by_resolution(resolution_to_download)\n",
    "stream_to_download.download(path_to_save)\n"
   ]
  }
 ],
 "metadata": {
  "kernelspec": {
   "display_name": "Python 3",
   "language": "python",
   "name": "python3"
  },
  "language_info": {
   "codemirror_mode": {
    "name": "ipython",
    "version": 3
   },
   "file_extension": ".py",
   "mimetype": "text/x-python",
   "name": "python",
   "nbconvert_exporter": "python",
   "pygments_lexer": "ipython3",
   "version": "3.12.1"
  }
 },
 "nbformat": 4,
 "nbformat_minor": 2
}
